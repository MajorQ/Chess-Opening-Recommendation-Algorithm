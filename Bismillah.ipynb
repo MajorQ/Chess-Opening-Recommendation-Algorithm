{
 "cells": [
  {
   "cell_type": "markdown",
   "metadata": {},
   "source": [
    "## Visualizing the Data"
   ]
  },
  {
   "cell_type": "code",
   "execution_count": 1,
   "metadata": {},
   "outputs": [],
   "source": [
    "import pandas as pd\n",
    "import numpy as np\n",
    "import matplotlib.pyplot as plt"
   ]
  },
  {
   "cell_type": "code",
   "execution_count": 2,
   "metadata": {},
   "outputs": [
    {
     "data": {
      "text/html": [
       "<div>\n",
       "<style scoped>\n",
       "    .dataframe tbody tr th:only-of-type {\n",
       "        vertical-align: middle;\n",
       "    }\n",
       "\n",
       "    .dataframe tbody tr th {\n",
       "        vertical-align: top;\n",
       "    }\n",
       "\n",
       "    .dataframe thead th {\n",
       "        text-align: right;\n",
       "    }\n",
       "</style>\n",
       "<table border=\"1\" class=\"dataframe\">\n",
       "  <thead>\n",
       "    <tr style=\"text-align: right;\">\n",
       "      <th></th>\n",
       "      <th>ranked</th>\n",
       "      <th>winner</th>\n",
       "      <th>white_rating</th>\n",
       "      <th>black_rating</th>\n",
       "      <th>strategy_code</th>\n",
       "      <th>strategy_name</th>\n",
       "      <th>setup_turns</th>\n",
       "    </tr>\n",
       "  </thead>\n",
       "  <tbody>\n",
       "    <tr>\n",
       "      <th>0</th>\n",
       "      <td>False</td>\n",
       "      <td>white</td>\n",
       "      <td>1500</td>\n",
       "      <td>1191</td>\n",
       "      <td>D10</td>\n",
       "      <td>Slav Defense: Exchange Variation</td>\n",
       "      <td>5</td>\n",
       "    </tr>\n",
       "    <tr>\n",
       "      <th>1</th>\n",
       "      <td>True</td>\n",
       "      <td>black</td>\n",
       "      <td>1322</td>\n",
       "      <td>1261</td>\n",
       "      <td>B00</td>\n",
       "      <td>Nimzowitsch Defense: Kennedy Variation</td>\n",
       "      <td>4</td>\n",
       "    </tr>\n",
       "    <tr>\n",
       "      <th>2</th>\n",
       "      <td>True</td>\n",
       "      <td>white</td>\n",
       "      <td>1496</td>\n",
       "      <td>1500</td>\n",
       "      <td>C20</td>\n",
       "      <td>King's Pawn Game: Leonardis Variation</td>\n",
       "      <td>3</td>\n",
       "    </tr>\n",
       "    <tr>\n",
       "      <th>3</th>\n",
       "      <td>True</td>\n",
       "      <td>white</td>\n",
       "      <td>1439</td>\n",
       "      <td>1454</td>\n",
       "      <td>D02</td>\n",
       "      <td>Queen's Pawn Game: Zukertort Variation</td>\n",
       "      <td>3</td>\n",
       "    </tr>\n",
       "    <tr>\n",
       "      <th>4</th>\n",
       "      <td>True</td>\n",
       "      <td>white</td>\n",
       "      <td>1523</td>\n",
       "      <td>1469</td>\n",
       "      <td>C41</td>\n",
       "      <td>Philidor Defense</td>\n",
       "      <td>5</td>\n",
       "    </tr>\n",
       "  </tbody>\n",
       "</table>\n",
       "</div>"
      ],
      "text/plain": [
       "   ranked winner  white_rating  black_rating strategy_code  \\\n",
       "0   False  white          1500          1191           D10   \n",
       "1    True  black          1322          1261           B00   \n",
       "2    True  white          1496          1500           C20   \n",
       "3    True  white          1439          1454           D02   \n",
       "4    True  white          1523          1469           C41   \n",
       "\n",
       "                            strategy_name  setup_turns  \n",
       "0        Slav Defense: Exchange Variation            5  \n",
       "1  Nimzowitsch Defense: Kennedy Variation            4  \n",
       "2   King's Pawn Game: Leonardis Variation            3  \n",
       "3  Queen's Pawn Game: Zukertort Variation            3  \n",
       "4                        Philidor Defense            5  "
      ]
     },
     "execution_count": 2,
     "metadata": {},
     "output_type": "execute_result"
    }
   ],
   "source": [
    "df = pd.read_csv(\"chess_dataset.csv\")\n",
    "df.head()"
   ]
  },
  {
   "cell_type": "code",
   "execution_count": 3,
   "metadata": {},
   "outputs": [
    {
     "data": {
      "text/html": [
       "<div>\n",
       "<style scoped>\n",
       "    .dataframe tbody tr th:only-of-type {\n",
       "        vertical-align: middle;\n",
       "    }\n",
       "\n",
       "    .dataframe tbody tr th {\n",
       "        vertical-align: top;\n",
       "    }\n",
       "\n",
       "    .dataframe thead th {\n",
       "        text-align: right;\n",
       "    }\n",
       "</style>\n",
       "<table border=\"1\" class=\"dataframe\">\n",
       "  <thead>\n",
       "    <tr style=\"text-align: right;\">\n",
       "      <th></th>\n",
       "      <th>ranked</th>\n",
       "      <th>winner</th>\n",
       "      <th>white_rating</th>\n",
       "      <th>black_rating</th>\n",
       "      <th>strategy_code</th>\n",
       "      <th>strategy_name</th>\n",
       "      <th>setup_turns</th>\n",
       "    </tr>\n",
       "  </thead>\n",
       "  <tbody>\n",
       "    <tr>\n",
       "      <th>20053</th>\n",
       "      <td>True</td>\n",
       "      <td>white</td>\n",
       "      <td>1691</td>\n",
       "      <td>1220</td>\n",
       "      <td>A80</td>\n",
       "      <td>Dutch Defense</td>\n",
       "      <td>2</td>\n",
       "    </tr>\n",
       "    <tr>\n",
       "      <th>20054</th>\n",
       "      <td>True</td>\n",
       "      <td>black</td>\n",
       "      <td>1233</td>\n",
       "      <td>1196</td>\n",
       "      <td>A41</td>\n",
       "      <td>Queen's Pawn</td>\n",
       "      <td>2</td>\n",
       "    </tr>\n",
       "    <tr>\n",
       "      <th>20055</th>\n",
       "      <td>True</td>\n",
       "      <td>white</td>\n",
       "      <td>1219</td>\n",
       "      <td>1286</td>\n",
       "      <td>D00</td>\n",
       "      <td>Queen's Pawn Game: Mason Attack</td>\n",
       "      <td>3</td>\n",
       "    </tr>\n",
       "    <tr>\n",
       "      <th>20056</th>\n",
       "      <td>True</td>\n",
       "      <td>white</td>\n",
       "      <td>1360</td>\n",
       "      <td>1227</td>\n",
       "      <td>B07</td>\n",
       "      <td>Pirc Defense</td>\n",
       "      <td>4</td>\n",
       "    </tr>\n",
       "    <tr>\n",
       "      <th>20057</th>\n",
       "      <td>True</td>\n",
       "      <td>black</td>\n",
       "      <td>1235</td>\n",
       "      <td>1339</td>\n",
       "      <td>D00</td>\n",
       "      <td>Queen's Pawn Game: Mason Attack</td>\n",
       "      <td>3</td>\n",
       "    </tr>\n",
       "  </tbody>\n",
       "</table>\n",
       "</div>"
      ],
      "text/plain": [
       "       ranked winner  white_rating  black_rating strategy_code  \\\n",
       "20053    True  white          1691          1220           A80   \n",
       "20054    True  black          1233          1196           A41   \n",
       "20055    True  white          1219          1286           D00   \n",
       "20056    True  white          1360          1227           B07   \n",
       "20057    True  black          1235          1339           D00   \n",
       "\n",
       "                         strategy_name  setup_turns  \n",
       "20053                    Dutch Defense            2  \n",
       "20054                     Queen's Pawn            2  \n",
       "20055  Queen's Pawn Game: Mason Attack            3  \n",
       "20056                     Pirc Defense            4  \n",
       "20057  Queen's Pawn Game: Mason Attack            3  "
      ]
     },
     "execution_count": 3,
     "metadata": {},
     "output_type": "execute_result"
    }
   ],
   "source": [
    "df.tail()"
   ]
  },
  {
   "cell_type": "markdown",
   "metadata": {},
   "source": [
    "Persebaran pemenang dan jumlah permainan ranked"
   ]
  },
  {
   "cell_type": "code",
   "execution_count": 4,
   "metadata": {},
   "outputs": [
    {
     "data": {
      "image/png": "[encoded data removed]",
      "text/plain": [
       "<Figure size 700x500 with 1 Axes>"
      ]
     },
     "metadata": {
      "needs_background": "light"
     },
     "output_type": "display_data"
    }
   ],
   "source": [
    "fig = plt.figure(figsize=[7,5], dpi = 100)\n",
    "\n",
    "ranked = nranked = 0\n",
    "\n",
    "for row in df.index:\n",
    "    if (df['ranked'].iloc[row] == True):\n",
    "        ranked = ranked + 1\n",
    "    else:\n",
    "        nranked = nranked + 1\n",
    "\n",
    "labels = ['Ranked', 'Not Ranked']\n",
    "x = np.arange(len(labels))\n",
    "\n",
    "plt.bar(0, ranked)\n",
    "plt.bar(1, nranked)\n",
    "plt.xticks(x, labels)\n",
    "\n",
    "plt.title(\"Distribution of Ranked Games\")\n",
    "plt.ylabel(\"Frequency / Number of Games\")\n",
    "plt.show()"
   ]
  },
  {
   "cell_type": "code",
   "execution_count": 5,
   "metadata": {
    "scrolled": false
   },
   "outputs": [
    {
     "data": {
      "image/png": "[encoded data removed]",
      "text/plain": [
       "<Figure size 700x500 with 1 Axes>"
      ]
     },
     "metadata": {
      "needs_background": "light"
     },
     "output_type": "display_data"
    }
   ],
   "source": [
    "fig = plt.figure(figsize=[7,5], dpi=100)\n",
    "\n",
    "draw = white = black = 0\n",
    "\n",
    "for row in df.index:\n",
    "    if (df['ranked'].iloc[row] == True):\n",
    "        if (df['winner'].iloc[row] == 'draw'):\n",
    "            draw = draw + 1\n",
    "        elif (df['winner'].iloc[row] == 'white'):\n",
    "            white = white + 1\n",
    "        else:\n",
    "            black = black + 1        \n",
    "            \n",
    "plt.bar(0, draw, width=1, color='tab:purple')\n",
    "plt.bar(1, white, width=1, color='tab:blue')\n",
    "plt.bar(2, black, width=1, color='tab:red')\n",
    "\n",
    "draw = white = black = 0\n",
    "\n",
    "for row in df.index:\n",
    "    if (df['ranked'].iloc[row] == False):\n",
    "        if (df['winner'].iloc[row] == 'draw'):\n",
    "            draw = draw + 1\n",
    "        elif (df['winner'].iloc[row] == 'white'):\n",
    "            white = white + 1\n",
    "        else:\n",
    "            black = black + 1\n",
    "\n",
    "plt.bar(4, draw, width=1, color='tab:purple')\n",
    "plt.bar(5, white, width=1, color='tab:blue')\n",
    "plt.bar(6, black, width=1, color='tab:red')\n",
    "\n",
    "label=['', 'Ranked', '', '', '', 'Not Ranked', '']\n",
    "x = np.arange(len(label))\n",
    "plt.xticks(x, label)\n",
    "\n",
    "plt.xlabel(\"Winner\")\n",
    "plt.legend(['Draw', 'White', 'Black'])\n",
    "plt.ylabel(\"Frequency / Number of Games\")\n",
    "plt.title('Distribution of Winners')\n",
    "\n",
    "plt.show()"
   ]
  },
  {
   "cell_type": "markdown",
   "metadata": {},
   "source": [
    "Persebaran rating untuk kedua sisi"
   ]
  },
  {
   "cell_type": "code",
   "execution_count": 6,
   "metadata": {
    "scrolled": false
   },
   "outputs": [
    {
     "data": {
      "image/png": "[encoded data removed]",
      "text/plain": [
       "<Figure size 700x500 with 2 Axes>"
      ]
     },
     "metadata": {
      "needs_background": "light"
     },
     "output_type": "display_data"
    }
   ],
   "source": [
    "fig = plt.figure(figsize=[7,5], dpi=100)\n",
    "\n",
    "gs = fig.add_gridspec(2, 1)\n",
    "ax1 = fig.add_subplot(gs[0])\n",
    "ax2 = fig.add_subplot(gs[1])\n",
    "\n",
    "ax1.hist(df['white_rating'], bins = 50)\n",
    "\n",
    "ax2.hist(df['black_rating'], bins = 50)\n",
    "\n",
    "ax1.set_ylabel(\"Frequency / Games Played\")\n",
    "ax2.set_ylabel(\"Frequency / Games Played\")\n",
    "ax1.set_xlabel(\"Rating\")\n",
    "ax2.set_xlabel(\"Rating\")\n",
    "ax1.set_title(\"White Rating Distribution\")\n",
    "ax2.set_title(\"Black Rating Distribution\")\n",
    "\n",
    "fig.tight_layout(pad=2)\n",
    "plt.show(fig)"
   ]
  },
  {
   "cell_type": "markdown",
   "metadata": {},
   "source": [
    "Menghitung mean dan modus untuk kedua sisi"
   ]
  },
  {
   "cell_type": "code",
   "execution_count": 7,
   "metadata": {},
   "outputs": [
    {
     "name": "stdout",
     "output_type": "stream",
     "text": [
      "0    1500\n",
      "dtype: int64\n",
      "\n",
      "Mean:  1596.6318675840064\n"
     ]
    }
   ],
   "source": [
    "print(df['white_rating'].mode())\n",
    "print('\\nMean: ', df['white_rating'].mean())"
   ]
  },
  {
   "cell_type": "code",
   "execution_count": 8,
   "metadata": {},
   "outputs": [
    {
     "name": "stdout",
     "output_type": "stream",
     "text": [
      "0    1500\n",
      "dtype: int64\n",
      "\n",
      "Mean:  1588.8319872370128\n"
     ]
    }
   ],
   "source": [
    "print(df['black_rating'].mode())\n",
    "print('\\nMean: ', df['black_rating'].mean())"
   ]
  },
  {
   "cell_type": "markdown",
   "metadata": {},
   "source": [
    "## Grouping Data"
   ]
  },
  {
   "cell_type": "code",
   "execution_count": 9,
   "metadata": {
    "scrolled": true
   },
   "outputs": [
    {
     "data": {
      "text/html": [
       "<div>\n",
       "<style scoped>\n",
       "    .dataframe tbody tr th:only-of-type {\n",
       "        vertical-align: middle;\n",
       "    }\n",
       "\n",
       "    .dataframe tbody tr th {\n",
       "        vertical-align: top;\n",
       "    }\n",
       "\n",
       "    .dataframe thead th {\n",
       "        text-align: right;\n",
       "    }\n",
       "</style>\n",
       "<table border=\"1\" class=\"dataframe\">\n",
       "  <thead>\n",
       "    <tr style=\"text-align: right;\">\n",
       "      <th></th>\n",
       "      <th>ranked</th>\n",
       "      <th>winner</th>\n",
       "      <th>white_rating</th>\n",
       "      <th>black_rating</th>\n",
       "      <th>strategy_code</th>\n",
       "      <th>strategy_name</th>\n",
       "      <th>setup_turns</th>\n",
       "      <th>strategy_type</th>\n",
       "    </tr>\n",
       "  </thead>\n",
       "  <tbody>\n",
       "    <tr>\n",
       "      <th>0</th>\n",
       "      <td>False</td>\n",
       "      <td>white</td>\n",
       "      <td>1500</td>\n",
       "      <td>1191</td>\n",
       "      <td>D10</td>\n",
       "      <td>Slav Defense: Exchange Variation</td>\n",
       "      <td>5</td>\n",
       "      <td>Slav Defense</td>\n",
       "    </tr>\n",
       "    <tr>\n",
       "      <th>1</th>\n",
       "      <td>True</td>\n",
       "      <td>black</td>\n",
       "      <td>1322</td>\n",
       "      <td>1261</td>\n",
       "      <td>B00</td>\n",
       "      <td>Nimzowitsch Defense: Kennedy Variation</td>\n",
       "      <td>4</td>\n",
       "      <td>Nimzowitsch Defense</td>\n",
       "    </tr>\n",
       "    <tr>\n",
       "      <th>2</th>\n",
       "      <td>True</td>\n",
       "      <td>white</td>\n",
       "      <td>1496</td>\n",
       "      <td>1500</td>\n",
       "      <td>C20</td>\n",
       "      <td>King's Pawn Game: Leonardis Variation</td>\n",
       "      <td>3</td>\n",
       "      <td>King's Pawn Game</td>\n",
       "    </tr>\n",
       "    <tr>\n",
       "      <th>3</th>\n",
       "      <td>True</td>\n",
       "      <td>white</td>\n",
       "      <td>1439</td>\n",
       "      <td>1454</td>\n",
       "      <td>D02</td>\n",
       "      <td>Queen's Pawn Game: Zukertort Variation</td>\n",
       "      <td>3</td>\n",
       "      <td>Queen's Pawn Game</td>\n",
       "    </tr>\n",
       "    <tr>\n",
       "      <th>4</th>\n",
       "      <td>True</td>\n",
       "      <td>white</td>\n",
       "      <td>1523</td>\n",
       "      <td>1469</td>\n",
       "      <td>C41</td>\n",
       "      <td>Philidor Defense</td>\n",
       "      <td>5</td>\n",
       "      <td>Philidor Defense</td>\n",
       "    </tr>\n",
       "  </tbody>\n",
       "</table>\n",
       "</div>"
      ],
      "text/plain": [
       "   ranked winner  white_rating  black_rating strategy_code  \\\n",
       "0   False  white          1500          1191           D10   \n",
       "1    True  black          1322          1261           B00   \n",
       "2    True  white          1496          1500           C20   \n",
       "3    True  white          1439          1454           D02   \n",
       "4    True  white          1523          1469           C41   \n",
       "\n",
       "                            strategy_name  setup_turns        strategy_type  \n",
       "0        Slav Defense: Exchange Variation            5         Slav Defense  \n",
       "1  Nimzowitsch Defense: Kennedy Variation            4  Nimzowitsch Defense  \n",
       "2   King's Pawn Game: Leonardis Variation            3     King's Pawn Game  \n",
       "3  Queen's Pawn Game: Zukertort Variation            3    Queen's Pawn Game  \n",
       "4                        Philidor Defense            5     Philidor Defense  "
      ]
     },
     "execution_count": 9,
     "metadata": {},
     "output_type": "execute_result"
    }
   ],
   "source": [
    "strat_name = df.strategy_name.map(\n",
    "                lambda n: n.split(\":\")[0].split(\"|\")[0].split(\"#\")[0].strip()\n",
    "            )\n",
    "\n",
    "df = df.assign(strategy_type=strat_name)\n",
    "df.head()"
   ]
  },
  {
   "cell_type": "code",
   "execution_count": 10,
   "metadata": {
    "scrolled": false
   },
   "outputs": [
    {
     "data": {
      "text/html": [
       "<div>\n",
       "<style scoped>\n",
       "    .dataframe tbody tr th:only-of-type {\n",
       "        vertical-align: middle;\n",
       "    }\n",
       "\n",
       "    .dataframe tbody tr th {\n",
       "        vertical-align: top;\n",
       "    }\n",
       "\n",
       "    .dataframe thead th {\n",
       "        text-align: right;\n",
       "    }\n",
       "</style>\n",
       "<table border=\"1\" class=\"dataframe\">\n",
       "  <thead>\n",
       "    <tr style=\"text-align: right;\">\n",
       "      <th></th>\n",
       "      <th></th>\n",
       "      <th>times_used</th>\n",
       "    </tr>\n",
       "    <tr>\n",
       "      <th>rating</th>\n",
       "      <th>strategy_type</th>\n",
       "      <th></th>\n",
       "    </tr>\n",
       "  </thead>\n",
       "  <tbody>\n",
       "    <tr>\n",
       "      <th rowspan=\"2\" valign=\"top\">784</th>\n",
       "      <th>King's Knight Opening</th>\n",
       "      <td>1</td>\n",
       "    </tr>\n",
       "    <tr>\n",
       "      <th>King's Pawn Game</th>\n",
       "      <td>1</td>\n",
       "    </tr>\n",
       "    <tr>\n",
       "      <th>788</th>\n",
       "      <th>Zukertort Opening</th>\n",
       "      <td>1</td>\n",
       "    </tr>\n",
       "    <tr>\n",
       "      <th>789</th>\n",
       "      <th>Sicilian Defense</th>\n",
       "      <td>1</td>\n",
       "    </tr>\n",
       "    <tr>\n",
       "      <th>791</th>\n",
       "      <th>Blackmar-Diemer Gambit</th>\n",
       "      <td>1</td>\n",
       "    </tr>\n",
       "  </tbody>\n",
       "</table>\n",
       "</div>"
      ],
      "text/plain": [
       "                               times_used\n",
       "rating strategy_type                     \n",
       "784    King's Knight Opening            1\n",
       "       King's Pawn Game                 1\n",
       "788    Zukertort Opening                1\n",
       "789    Sicilian Defense                 1\n",
       "791    Blackmar-Diemer Gambit           1"
      ]
     },
     "execution_count": 10,
     "metadata": {},
     "output_type": "execute_result"
    }
   ],
   "source": [
    "opening_used = (pd.concat([\n",
    "                   df.groupby('white_rating')['strategy_type'].value_counts(),\n",
    "                   df.groupby('black_rating')['strategy_type'].value_counts()\n",
    "                ])\n",
    "                    .rename(index='openings_used')\n",
    "                    .reset_index()\n",
    "                    .rename(columns={'white_rating': 'rating', 'openings_used': 'times_used'})\n",
    "                    .groupby(['rating', 'strategy_type']).sum()\n",
    "               )\n",
    "\n",
    "opening_used.head() # tabel penggunaan strategi per rating"
   ]
  },
  {
   "cell_type": "markdown",
   "metadata": {},
   "source": [
    "## Utility Matrix dan Rating"
   ]
  },
  {
   "cell_type": "code",
   "execution_count": 11,
   "metadata": {},
   "outputs": [],
   "source": [
    "def threshold_map(n_opening, n_all):\n",
    "    if pd.isnull(n_opening):\n",
    "        return np.nan\n",
    "    elif n_opening  / n_all >= 1 / 4:\n",
    "        return 5\n",
    "    elif n_opening  / n_all >= 1 / 8:\n",
    "        return 4\n",
    "    elif n_opening  / n_all >= 1 / 16:\n",
    "        return 3\n",
    "    else:\n",
    "        return 2\n",
    "\n",
    "matrix = opening_used.unstack(-1).loc[:, 'times_used'].apply(\n",
    "    lambda srs: srs.map(lambda v: threshold_map(v, srs.sum())),\n",
    "    axis='columns'\n",
    ")"
   ]
  },
  {
   "cell_type": "code",
   "execution_count": 12,
   "metadata": {},
   "outputs": [
    {
     "data": {
      "text/html": [
       "<div>\n",
       "<style scoped>\n",
       "    .dataframe tbody tr th:only-of-type {\n",
       "        vertical-align: middle;\n",
       "    }\n",
       "\n",
       "    .dataframe tbody tr th {\n",
       "        vertical-align: top;\n",
       "    }\n",
       "\n",
       "    .dataframe thead th {\n",
       "        text-align: right;\n",
       "    }\n",
       "</style>\n",
       "<table border=\"1\" class=\"dataframe\">\n",
       "  <thead>\n",
       "    <tr style=\"text-align: right;\">\n",
       "      <th>strategy_type</th>\n",
       "      <th>Alekhine Defense</th>\n",
       "      <th>Amar Opening</th>\n",
       "      <th>Amazon Attack</th>\n",
       "      <th>Anderssen Opening</th>\n",
       "      <th>Australian Defense</th>\n",
       "      <th>Barnes Defense</th>\n",
       "      <th>Barnes Opening</th>\n",
       "      <th>Benko Gambit</th>\n",
       "      <th>Benko Gambit Accepted</th>\n",
       "      <th>Benko Gambit Declined</th>\n",
       "      <th>...</th>\n",
       "      <th>Trompowsky Attack</th>\n",
       "      <th>Valencia Opening</th>\n",
       "      <th>Van Geet Opening</th>\n",
       "      <th>Van't Kruijs Opening</th>\n",
       "      <th>Vienna Game</th>\n",
       "      <th>Wade Defense</th>\n",
       "      <th>Ware Defense</th>\n",
       "      <th>Ware Opening</th>\n",
       "      <th>Yusupov-Rubinstein System</th>\n",
       "      <th>Zukertort Opening</th>\n",
       "    </tr>\n",
       "    <tr>\n",
       "      <th>rating</th>\n",
       "      <th></th>\n",
       "      <th></th>\n",
       "      <th></th>\n",
       "      <th></th>\n",
       "      <th></th>\n",
       "      <th></th>\n",
       "      <th></th>\n",
       "      <th></th>\n",
       "      <th></th>\n",
       "      <th></th>\n",
       "      <th></th>\n",
       "      <th></th>\n",
       "      <th></th>\n",
       "      <th></th>\n",
       "      <th></th>\n",
       "      <th></th>\n",
       "      <th></th>\n",
       "      <th></th>\n",
       "      <th></th>\n",
       "      <th></th>\n",
       "      <th></th>\n",
       "    </tr>\n",
       "  </thead>\n",
       "  <tbody>\n",
       "    <tr>\n",
       "      <th>784</th>\n",
       "      <td>NaN</td>\n",
       "      <td>NaN</td>\n",
       "      <td>NaN</td>\n",
       "      <td>NaN</td>\n",
       "      <td>NaN</td>\n",
       "      <td>NaN</td>\n",
       "      <td>NaN</td>\n",
       "      <td>NaN</td>\n",
       "      <td>NaN</td>\n",
       "      <td>NaN</td>\n",
       "      <td>...</td>\n",
       "      <td>NaN</td>\n",
       "      <td>NaN</td>\n",
       "      <td>NaN</td>\n",
       "      <td>NaN</td>\n",
       "      <td>NaN</td>\n",
       "      <td>NaN</td>\n",
       "      <td>NaN</td>\n",
       "      <td>NaN</td>\n",
       "      <td>NaN</td>\n",
       "      <td>NaN</td>\n",
       "    </tr>\n",
       "    <tr>\n",
       "      <th>788</th>\n",
       "      <td>NaN</td>\n",
       "      <td>NaN</td>\n",
       "      <td>NaN</td>\n",
       "      <td>NaN</td>\n",
       "      <td>NaN</td>\n",
       "      <td>NaN</td>\n",
       "      <td>NaN</td>\n",
       "      <td>NaN</td>\n",
       "      <td>NaN</td>\n",
       "      <td>NaN</td>\n",
       "      <td>...</td>\n",
       "      <td>NaN</td>\n",
       "      <td>NaN</td>\n",
       "      <td>NaN</td>\n",
       "      <td>NaN</td>\n",
       "      <td>NaN</td>\n",
       "      <td>NaN</td>\n",
       "      <td>NaN</td>\n",
       "      <td>NaN</td>\n",
       "      <td>NaN</td>\n",
       "      <td>5.0</td>\n",
       "    </tr>\n",
       "    <tr>\n",
       "      <th>789</th>\n",
       "      <td>NaN</td>\n",
       "      <td>NaN</td>\n",
       "      <td>NaN</td>\n",
       "      <td>NaN</td>\n",
       "      <td>NaN</td>\n",
       "      <td>NaN</td>\n",
       "      <td>NaN</td>\n",
       "      <td>NaN</td>\n",
       "      <td>NaN</td>\n",
       "      <td>NaN</td>\n",
       "      <td>...</td>\n",
       "      <td>NaN</td>\n",
       "      <td>NaN</td>\n",
       "      <td>NaN</td>\n",
       "      <td>NaN</td>\n",
       "      <td>NaN</td>\n",
       "      <td>NaN</td>\n",
       "      <td>NaN</td>\n",
       "      <td>NaN</td>\n",
       "      <td>NaN</td>\n",
       "      <td>NaN</td>\n",
       "    </tr>\n",
       "    <tr>\n",
       "      <th>791</th>\n",
       "      <td>NaN</td>\n",
       "      <td>NaN</td>\n",
       "      <td>NaN</td>\n",
       "      <td>NaN</td>\n",
       "      <td>NaN</td>\n",
       "      <td>NaN</td>\n",
       "      <td>NaN</td>\n",
       "      <td>NaN</td>\n",
       "      <td>NaN</td>\n",
       "      <td>NaN</td>\n",
       "      <td>...</td>\n",
       "      <td>NaN</td>\n",
       "      <td>NaN</td>\n",
       "      <td>NaN</td>\n",
       "      <td>NaN</td>\n",
       "      <td>NaN</td>\n",
       "      <td>NaN</td>\n",
       "      <td>NaN</td>\n",
       "      <td>NaN</td>\n",
       "      <td>NaN</td>\n",
       "      <td>NaN</td>\n",
       "    </tr>\n",
       "    <tr>\n",
       "      <th>793</th>\n",
       "      <td>NaN</td>\n",
       "      <td>NaN</td>\n",
       "      <td>NaN</td>\n",
       "      <td>NaN</td>\n",
       "      <td>NaN</td>\n",
       "      <td>NaN</td>\n",
       "      <td>NaN</td>\n",
       "      <td>NaN</td>\n",
       "      <td>NaN</td>\n",
       "      <td>NaN</td>\n",
       "      <td>...</td>\n",
       "      <td>NaN</td>\n",
       "      <td>NaN</td>\n",
       "      <td>NaN</td>\n",
       "      <td>NaN</td>\n",
       "      <td>NaN</td>\n",
       "      <td>NaN</td>\n",
       "      <td>NaN</td>\n",
       "      <td>NaN</td>\n",
       "      <td>NaN</td>\n",
       "      <td>NaN</td>\n",
       "    </tr>\n",
       "    <tr>\n",
       "      <th>795</th>\n",
       "      <td>NaN</td>\n",
       "      <td>NaN</td>\n",
       "      <td>NaN</td>\n",
       "      <td>NaN</td>\n",
       "      <td>NaN</td>\n",
       "      <td>NaN</td>\n",
       "      <td>NaN</td>\n",
       "      <td>NaN</td>\n",
       "      <td>NaN</td>\n",
       "      <td>NaN</td>\n",
       "      <td>...</td>\n",
       "      <td>NaN</td>\n",
       "      <td>NaN</td>\n",
       "      <td>NaN</td>\n",
       "      <td>NaN</td>\n",
       "      <td>NaN</td>\n",
       "      <td>NaN</td>\n",
       "      <td>NaN</td>\n",
       "      <td>NaN</td>\n",
       "      <td>NaN</td>\n",
       "      <td>NaN</td>\n",
       "    </tr>\n",
       "    <tr>\n",
       "      <th>796</th>\n",
       "      <td>NaN</td>\n",
       "      <td>NaN</td>\n",
       "      <td>NaN</td>\n",
       "      <td>NaN</td>\n",
       "      <td>NaN</td>\n",
       "      <td>NaN</td>\n",
       "      <td>NaN</td>\n",
       "      <td>NaN</td>\n",
       "      <td>NaN</td>\n",
       "      <td>NaN</td>\n",
       "      <td>...</td>\n",
       "      <td>NaN</td>\n",
       "      <td>NaN</td>\n",
       "      <td>NaN</td>\n",
       "      <td>NaN</td>\n",
       "      <td>NaN</td>\n",
       "      <td>NaN</td>\n",
       "      <td>NaN</td>\n",
       "      <td>NaN</td>\n",
       "      <td>NaN</td>\n",
       "      <td>NaN</td>\n",
       "    </tr>\n",
       "    <tr>\n",
       "      <th>798</th>\n",
       "      <td>NaN</td>\n",
       "      <td>NaN</td>\n",
       "      <td>NaN</td>\n",
       "      <td>NaN</td>\n",
       "      <td>NaN</td>\n",
       "      <td>NaN</td>\n",
       "      <td>NaN</td>\n",
       "      <td>NaN</td>\n",
       "      <td>NaN</td>\n",
       "      <td>NaN</td>\n",
       "      <td>...</td>\n",
       "      <td>NaN</td>\n",
       "      <td>NaN</td>\n",
       "      <td>NaN</td>\n",
       "      <td>NaN</td>\n",
       "      <td>NaN</td>\n",
       "      <td>NaN</td>\n",
       "      <td>NaN</td>\n",
       "      <td>NaN</td>\n",
       "      <td>NaN</td>\n",
       "      <td>NaN</td>\n",
       "    </tr>\n",
       "    <tr>\n",
       "      <th>800</th>\n",
       "      <td>NaN</td>\n",
       "      <td>NaN</td>\n",
       "      <td>NaN</td>\n",
       "      <td>NaN</td>\n",
       "      <td>NaN</td>\n",
       "      <td>NaN</td>\n",
       "      <td>NaN</td>\n",
       "      <td>NaN</td>\n",
       "      <td>NaN</td>\n",
       "      <td>NaN</td>\n",
       "      <td>...</td>\n",
       "      <td>NaN</td>\n",
       "      <td>NaN</td>\n",
       "      <td>NaN</td>\n",
       "      <td>NaN</td>\n",
       "      <td>NaN</td>\n",
       "      <td>NaN</td>\n",
       "      <td>NaN</td>\n",
       "      <td>NaN</td>\n",
       "      <td>NaN</td>\n",
       "      <td>NaN</td>\n",
       "    </tr>\n",
       "    <tr>\n",
       "      <th>801</th>\n",
       "      <td>NaN</td>\n",
       "      <td>NaN</td>\n",
       "      <td>NaN</td>\n",
       "      <td>NaN</td>\n",
       "      <td>NaN</td>\n",
       "      <td>NaN</td>\n",
       "      <td>NaN</td>\n",
       "      <td>NaN</td>\n",
       "      <td>NaN</td>\n",
       "      <td>NaN</td>\n",
       "      <td>...</td>\n",
       "      <td>NaN</td>\n",
       "      <td>NaN</td>\n",
       "      <td>NaN</td>\n",
       "      <td>NaN</td>\n",
       "      <td>NaN</td>\n",
       "      <td>NaN</td>\n",
       "      <td>NaN</td>\n",
       "      <td>NaN</td>\n",
       "      <td>NaN</td>\n",
       "      <td>NaN</td>\n",
       "    </tr>\n",
       "  </tbody>\n",
       "</table>\n",
       "<p>10 rows × 143 columns</p>\n",
       "</div>"
      ],
      "text/plain": [
       "strategy_type  Alekhine Defense  Amar Opening  Amazon Attack  \\\n",
       "rating                                                         \n",
       "784                         NaN           NaN            NaN   \n",
       "788                         NaN           NaN            NaN   \n",
       "789                         NaN           NaN            NaN   \n",
       "791                         NaN           NaN            NaN   \n",
       "793                         NaN           NaN            NaN   \n",
       "795                         NaN           NaN            NaN   \n",
       "796                         NaN           NaN            NaN   \n",
       "798                         NaN           NaN            NaN   \n",
       "800                         NaN           NaN            NaN   \n",
       "801                         NaN           NaN            NaN   \n",
       "\n",
       "strategy_type  Anderssen Opening  Australian Defense  Barnes Defense  \\\n",
       "rating                                                                 \n",
       "784                          NaN                 NaN             NaN   \n",
       "788                          NaN                 NaN             NaN   \n",
       "789                          NaN                 NaN             NaN   \n",
       "791                          NaN                 NaN             NaN   \n",
       "793                          NaN                 NaN             NaN   \n",
       "795                          NaN                 NaN             NaN   \n",
       "796                          NaN                 NaN             NaN   \n",
       "798                          NaN                 NaN             NaN   \n",
       "800                          NaN                 NaN             NaN   \n",
       "801                          NaN                 NaN             NaN   \n",
       "\n",
       "strategy_type  Barnes Opening  Benko Gambit  Benko Gambit Accepted  \\\n",
       "rating                                                               \n",
       "784                       NaN           NaN                    NaN   \n",
       "788                       NaN           NaN                    NaN   \n",
       "789                       NaN           NaN                    NaN   \n",
       "791                       NaN           NaN                    NaN   \n",
       "793                       NaN           NaN                    NaN   \n",
       "795                       NaN           NaN                    NaN   \n",
       "796                       NaN           NaN                    NaN   \n",
       "798                       NaN           NaN                    NaN   \n",
       "800                       NaN           NaN                    NaN   \n",
       "801                       NaN           NaN                    NaN   \n",
       "\n",
       "strategy_type  Benko Gambit Declined  ...  Trompowsky Attack  \\\n",
       "rating                                ...                      \n",
       "784                              NaN  ...                NaN   \n",
       "788                              NaN  ...                NaN   \n",
       "789                              NaN  ...                NaN   \n",
       "791                              NaN  ...                NaN   \n",
       "793                              NaN  ...                NaN   \n",
       "795                              NaN  ...                NaN   \n",
       "796                              NaN  ...                NaN   \n",
       "798                              NaN  ...                NaN   \n",
       "800                              NaN  ...                NaN   \n",
       "801                              NaN  ...                NaN   \n",
       "\n",
       "strategy_type  Valencia Opening  Van Geet Opening  Van't Kruijs Opening  \\\n",
       "rating                                                                    \n",
       "784                         NaN               NaN                   NaN   \n",
       "788                         NaN               NaN                   NaN   \n",
       "789                         NaN               NaN                   NaN   \n",
       "791                         NaN               NaN                   NaN   \n",
       "793                         NaN               NaN                   NaN   \n",
       "795                         NaN               NaN                   NaN   \n",
       "796                         NaN               NaN                   NaN   \n",
       "798                         NaN               NaN                   NaN   \n",
       "800                         NaN               NaN                   NaN   \n",
       "801                         NaN               NaN                   NaN   \n",
       "\n",
       "strategy_type  Vienna Game  Wade Defense  Ware Defense  Ware Opening  \\\n",
       "rating                                                                 \n",
       "784                    NaN           NaN           NaN           NaN   \n",
       "788                    NaN           NaN           NaN           NaN   \n",
       "789                    NaN           NaN           NaN           NaN   \n",
       "791                    NaN           NaN           NaN           NaN   \n",
       "793                    NaN           NaN           NaN           NaN   \n",
       "795                    NaN           NaN           NaN           NaN   \n",
       "796                    NaN           NaN           NaN           NaN   \n",
       "798                    NaN           NaN           NaN           NaN   \n",
       "800                    NaN           NaN           NaN           NaN   \n",
       "801                    NaN           NaN           NaN           NaN   \n",
       "\n",
       "strategy_type  Yusupov-Rubinstein System  Zukertort Opening  \n",
       "rating                                                       \n",
       "784                                  NaN                NaN  \n",
       "788                                  NaN                5.0  \n",
       "789                                  NaN                NaN  \n",
       "791                                  NaN                NaN  \n",
       "793                                  NaN                NaN  \n",
       "795                                  NaN                NaN  \n",
       "796                                  NaN                NaN  \n",
       "798                                  NaN                NaN  \n",
       "800                                  NaN                NaN  \n",
       "801                                  NaN                NaN  \n",
       "\n",
       "[10 rows x 143 columns]"
      ]
     },
     "execution_count": 12,
     "metadata": {},
     "output_type": "execute_result"
    }
   ],
   "source": [
    "matrix.head(10)"
   ]
  },
  {
   "cell_type": "markdown",
   "metadata": {},
   "source": [
    "Menghitung sparsitas dari Data"
   ]
  },
  {
   "cell_type": "code",
   "execution_count": 13,
   "metadata": {},
   "outputs": [
    {
     "data": {
      "text/plain": [
       "90.30334646857459"
      ]
     },
     "execution_count": 13,
     "metadata": {},
     "output_type": "execute_result"
    }
   ],
   "source": [
    "matrix_size = matrix.shape[0]*matrix.shape[1] # 1622 x 143 - besar matrix\n",
    "not_null = len(opening_used['times_used']) # Jumlah kotak yang tidak kosong\n",
    "sparsity = 100*(1 - (not_null/matrix_size))\n",
    "\n",
    "sparsity # Persentase kekosongan matrix"
   ]
  },
  {
   "cell_type": "code",
   "execution_count": 14,
   "metadata": {
    "scrolled": false
   },
   "outputs": [
    {
     "data": {
      "image/png": "[encoded data removed]",
      "text/plain": [
       "<Figure size 432x288 with 1 Axes>"
      ]
     },
     "metadata": {
      "needs_background": "light"
     },
     "output_type": "display_data"
    }
   ],
   "source": [
    "pd.Series(matrix.values.flatten()).value_counts().sort_index().plot.bar()\n",
    "plt.show()"
   ]
  },
  {
   "cell_type": "markdown",
   "metadata": {},
   "source": [
    "### Item Based CF"
   ]
  },
  {
   "cell_type": "code",
   "execution_count": 15,
   "metadata": {},
   "outputs": [
    {
     "data": {
      "text/html": [
       "<div>\n",
       "<style scoped>\n",
       "    .dataframe tbody tr th:only-of-type {\n",
       "        vertical-align: middle;\n",
       "    }\n",
       "\n",
       "    .dataframe tbody tr th {\n",
       "        vertical-align: top;\n",
       "    }\n",
       "\n",
       "    .dataframe thead th {\n",
       "        text-align: right;\n",
       "    }\n",
       "</style>\n",
       "<table border=\"1\" class=\"dataframe\">\n",
       "  <thead>\n",
       "    <tr style=\"text-align: right;\">\n",
       "      <th></th>\n",
       "      <th>0</th>\n",
       "      <th>1</th>\n",
       "      <th>2</th>\n",
       "      <th>3</th>\n",
       "      <th>4</th>\n",
       "      <th>5</th>\n",
       "      <th>6</th>\n",
       "      <th>7</th>\n",
       "      <th>8</th>\n",
       "      <th>9</th>\n",
       "      <th>...</th>\n",
       "      <th>133</th>\n",
       "      <th>134</th>\n",
       "      <th>135</th>\n",
       "      <th>136</th>\n",
       "      <th>137</th>\n",
       "      <th>138</th>\n",
       "      <th>139</th>\n",
       "      <th>140</th>\n",
       "      <th>141</th>\n",
       "      <th>142</th>\n",
       "    </tr>\n",
       "    <tr>\n",
       "      <th>rating</th>\n",
       "      <th></th>\n",
       "      <th></th>\n",
       "      <th></th>\n",
       "      <th></th>\n",
       "      <th></th>\n",
       "      <th></th>\n",
       "      <th></th>\n",
       "      <th></th>\n",
       "      <th></th>\n",
       "      <th></th>\n",
       "      <th></th>\n",
       "      <th></th>\n",
       "      <th></th>\n",
       "      <th></th>\n",
       "      <th></th>\n",
       "      <th></th>\n",
       "      <th></th>\n",
       "      <th></th>\n",
       "      <th></th>\n",
       "      <th></th>\n",
       "      <th></th>\n",
       "    </tr>\n",
       "  </thead>\n",
       "  <tbody>\n",
       "    <tr>\n",
       "      <th>784</th>\n",
       "      <td>0.055851</td>\n",
       "      <td>0.067868</td>\n",
       "      <td>0.067326</td>\n",
       "      <td>0.066195</td>\n",
       "      <td>0.068968</td>\n",
       "      <td>0.065285</td>\n",
       "      <td>0.068894</td>\n",
       "      <td>0.071442</td>\n",
       "      <td>0.071130</td>\n",
       "      <td>0.070553</td>\n",
       "      <td>...</td>\n",
       "      <td>0.068524</td>\n",
       "      <td>0.069621</td>\n",
       "      <td>0.062375</td>\n",
       "      <td>0.048817</td>\n",
       "      <td>0.059485</td>\n",
       "      <td>0.071556</td>\n",
       "      <td>0.066697</td>\n",
       "      <td>0.068137</td>\n",
       "      <td>0.068329</td>\n",
       "      <td>5.789981e-02</td>\n",
       "    </tr>\n",
       "    <tr>\n",
       "      <th>788</th>\n",
       "      <td>0.029735</td>\n",
       "      <td>0.034382</td>\n",
       "      <td>0.035862</td>\n",
       "      <td>0.034133</td>\n",
       "      <td>0.033836</td>\n",
       "      <td>0.033132</td>\n",
       "      <td>0.035110</td>\n",
       "      <td>0.034903</td>\n",
       "      <td>0.034478</td>\n",
       "      <td>0.035165</td>\n",
       "      <td>...</td>\n",
       "      <td>0.033730</td>\n",
       "      <td>0.034806</td>\n",
       "      <td>0.032294</td>\n",
       "      <td>0.030368</td>\n",
       "      <td>0.030782</td>\n",
       "      <td>0.034425</td>\n",
       "      <td>0.034319</td>\n",
       "      <td>0.032555</td>\n",
       "      <td>0.033650</td>\n",
       "      <td>1.319599e-16</td>\n",
       "    </tr>\n",
       "    <tr>\n",
       "      <th>789</th>\n",
       "      <td>0.025917</td>\n",
       "      <td>0.033653</td>\n",
       "      <td>0.034103</td>\n",
       "      <td>0.031778</td>\n",
       "      <td>0.034015</td>\n",
       "      <td>0.032958</td>\n",
       "      <td>0.034016</td>\n",
       "      <td>0.033914</td>\n",
       "      <td>0.033445</td>\n",
       "      <td>0.033733</td>\n",
       "      <td>...</td>\n",
       "      <td>0.030421</td>\n",
       "      <td>0.034951</td>\n",
       "      <td>0.031076</td>\n",
       "      <td>0.024673</td>\n",
       "      <td>0.026911</td>\n",
       "      <td>0.033735</td>\n",
       "      <td>0.033050</td>\n",
       "      <td>0.032797</td>\n",
       "      <td>0.031241</td>\n",
       "      <td>2.232719e-02</td>\n",
       "    </tr>\n",
       "    <tr>\n",
       "      <th>791</th>\n",
       "      <td>0.036425</td>\n",
       "      <td>0.035677</td>\n",
       "      <td>0.034335</td>\n",
       "      <td>0.034099</td>\n",
       "      <td>0.033435</td>\n",
       "      <td>0.034662</td>\n",
       "      <td>0.035787</td>\n",
       "      <td>0.035947</td>\n",
       "      <td>0.035699</td>\n",
       "      <td>0.035496</td>\n",
       "      <td>...</td>\n",
       "      <td>0.035536</td>\n",
       "      <td>0.035551</td>\n",
       "      <td>0.035995</td>\n",
       "      <td>0.035128</td>\n",
       "      <td>0.033168</td>\n",
       "      <td>0.034142</td>\n",
       "      <td>0.036031</td>\n",
       "      <td>0.034262</td>\n",
       "      <td>0.034255</td>\n",
       "      <td>3.531439e-02</td>\n",
       "    </tr>\n",
       "    <tr>\n",
       "      <th>793</th>\n",
       "      <td>0.026003</td>\n",
       "      <td>0.033065</td>\n",
       "      <td>0.032970</td>\n",
       "      <td>0.032801</td>\n",
       "      <td>0.034419</td>\n",
       "      <td>0.033719</td>\n",
       "      <td>0.033906</td>\n",
       "      <td>0.034789</td>\n",
       "      <td>0.034539</td>\n",
       "      <td>0.034577</td>\n",
       "      <td>...</td>\n",
       "      <td>0.031108</td>\n",
       "      <td>0.035137</td>\n",
       "      <td>0.030017</td>\n",
       "      <td>0.023742</td>\n",
       "      <td>0.028070</td>\n",
       "      <td>0.033710</td>\n",
       "      <td>0.032956</td>\n",
       "      <td>0.033030</td>\n",
       "      <td>0.032353</td>\n",
       "      <td>2.330825e-02</td>\n",
       "    </tr>\n",
       "  </tbody>\n",
       "</table>\n",
       "<p>5 rows × 143 columns</p>\n",
       "</div>"
      ],
      "text/plain": [
       "             0         1         2         3         4         5         6    \\\n",
       "rating                                                                         \n",
       "784     0.055851  0.067868  0.067326  0.066195  0.068968  0.065285  0.068894   \n",
       "788     0.029735  0.034382  0.035862  0.034133  0.033836  0.033132  0.035110   \n",
       "789     0.025917  0.033653  0.034103  0.031778  0.034015  0.032958  0.034016   \n",
       "791     0.036425  0.035677  0.034335  0.034099  0.033435  0.034662  0.035787   \n",
       "793     0.026003  0.033065  0.032970  0.032801  0.034419  0.033719  0.033906   \n",
       "\n",
       "             7         8         9    ...       133       134       135  \\\n",
       "rating                                ...                                 \n",
       "784     0.071442  0.071130  0.070553  ...  0.068524  0.069621  0.062375   \n",
       "788     0.034903  0.034478  0.035165  ...  0.033730  0.034806  0.032294   \n",
       "789     0.033914  0.033445  0.033733  ...  0.030421  0.034951  0.031076   \n",
       "791     0.035947  0.035699  0.035496  ...  0.035536  0.035551  0.035995   \n",
       "793     0.034789  0.034539  0.034577  ...  0.031108  0.035137  0.030017   \n",
       "\n",
       "             136       137       138       139       140       141  \\\n",
       "rating                                                               \n",
       "784     0.048817  0.059485  0.071556  0.066697  0.068137  0.068329   \n",
       "788     0.030368  0.030782  0.034425  0.034319  0.032555  0.033650   \n",
       "789     0.024673  0.026911  0.033735  0.033050  0.032797  0.031241   \n",
       "791     0.035128  0.033168  0.034142  0.036031  0.034262  0.034255   \n",
       "793     0.023742  0.028070  0.033710  0.032956  0.033030  0.032353   \n",
       "\n",
       "                 142  \n",
       "rating                \n",
       "784     5.789981e-02  \n",
       "788     1.319599e-16  \n",
       "789     2.232719e-02  \n",
       "791     3.531439e-02  \n",
       "793     2.330825e-02  \n",
       "\n",
       "[5 rows x 143 columns]"
      ]
     },
     "execution_count": 15,
     "metadata": {},
     "output_type": "execute_result"
    }
   ],
   "source": [
    "from sklearn.metrics.pairwise import pairwise_distances\n",
    "\n",
    "# user_similarity = pairwise_distances(train.fillna(0), metric='cosine')\n",
    "\n",
    "item_similarity = pairwise_distances(matrix.T.fillna(0), metric='cosine')\n",
    "\n",
    "correction = np.array([np.abs(item_similarity).sum(axis=1)])\n",
    "item_predictions = matrix.fillna(0).dot(item_similarity).apply(\n",
    "    lambda srs: srs / np.array([item_similarity.sum(axis=1)]).flatten(), axis='columns')\n",
    "\n",
    "item_predictions.head()"
   ]
  },
  {
   "cell_type": "code",
   "execution_count": 16,
   "metadata": {
    "scrolled": false
   },
   "outputs": [
    {
     "data": {
      "text/plain": [
       "rating\n",
       "784         Neo-Gruenfeld Defense\n",
       "788    Queen's Indian Accelerated\n",
       "789          Center Game Accepted\n",
       "791                  Reti Opening\n",
       "793               Lemming Defense\n",
       "795                  Carr Defense\n",
       "796          Center Game Accepted\n",
       "798    Queen's Indian Accelerated\n",
       "800                  Wade Defense\n",
       "801                  Wade Defense\n",
       "dtype: object"
      ]
     },
     "execution_count": 16,
     "metadata": {},
     "output_type": "execute_result"
    }
   ],
   "source": [
    "opening_names = pd.Series(matrix.columns)\n",
    "\n",
    "recommended_opening_numbers = item_predictions.apply(\n",
    "    lambda srs: np.argmax(srs.values), axis='columns'\n",
    ")\n",
    "\n",
    "recommended_openings = recommended_opening_numbers.map(opening_names)\n",
    "\n",
    "recommended_openings.head(10)"
   ]
  },
  {
   "cell_type": "code",
   "execution_count": 17,
   "metadata": {},
   "outputs": [
    {
     "data": {
      "text/plain": [
       "rating\n",
       "2579      King's Pawn Game\n",
       "2586      King's Pawn Game\n",
       "2588    Rubinstein Opening\n",
       "2613    Rubinstein Opening\n",
       "2617          Giuoco Piano\n",
       "2619    Rubinstein Opening\n",
       "2621    Rubinstein Opening\n",
       "2622       Lemming Defense\n",
       "2700       Lemming Defense\n",
       "2723      Sicilian Defense\n",
       "dtype: object"
      ]
     },
     "execution_count": 17,
     "metadata": {},
     "output_type": "execute_result"
    }
   ],
   "source": [
    "recommended_openings.tail(10)"
   ]
  },
  {
   "cell_type": "code",
   "execution_count": 18,
   "metadata": {
    "scrolled": false
   },
   "outputs": [
    {
     "data": {
      "image/png": "[encoded data removed]",
      "text/plain": [
       "<Figure size 648x504 with 1 Axes>"
      ]
     },
     "metadata": {
      "needs_background": "light"
     },
     "output_type": "display_data"
    },
    {
     "data": {
      "text/plain": [
       "Rubinstein Opening            791\n",
       "Center Game Accepted          530\n",
       "Lemming Defense               191\n",
       "Queen's Indian Accelerated     14\n",
       "King's Pawn Game               13\n",
       "dtype: int64"
      ]
     },
     "execution_count": 18,
     "metadata": {},
     "output_type": "execute_result"
    }
   ],
   "source": [
    "recommended_openings.value_counts().head(10).iloc[0:].plot.bar(figsize=(9, 7), fontsize=12)\n",
    "plt.ylabel('Number of Recommended Ratings', fontsize=14)\n",
    "plt.title('Top 10 Most Recommended Openings', fontsize=18)\n",
    "plt.show()\n",
    "recommended_openings.value_counts().head()"
   ]
  },
  {
   "cell_type": "markdown",
   "metadata": {},
   "source": [
    "## Testing for Better Results"
   ]
  },
  {
   "cell_type": "code",
   "execution_count": 19,
   "metadata": {},
   "outputs": [],
   "source": [
    "import scipy.sparse as sp\n",
    "from scipy.sparse.linalg import spsolve\n",
    "from implicit.als import AlternatingLeastSquares"
   ]
  },
  {
   "cell_type": "code",
   "execution_count": 20,
   "metadata": {},
   "outputs": [],
   "source": [
    "data = (pd.concat([\n",
    "                   df.groupby('white_rating')['strategy_type'].value_counts(),\n",
    "                   df.groupby('black_rating')['strategy_type'].value_counts()\n",
    "                ])\n",
    "                    .rename(index='openings_used')\n",
    "                    .reset_index()\n",
    "                    .rename(columns={'white_rating': 'rating', 'openings_used': 'times_used'})\n",
    "               )"
   ]
  },
  {
   "cell_type": "code",
   "execution_count": 21,
   "metadata": {
    "scrolled": true
   },
   "outputs": [
    {
     "data": {
      "text/html": [
       "<div>\n",
       "<style scoped>\n",
       "    .dataframe tbody tr th:only-of-type {\n",
       "        vertical-align: middle;\n",
       "    }\n",
       "\n",
       "    .dataframe tbody tr th {\n",
       "        vertical-align: top;\n",
       "    }\n",
       "\n",
       "    .dataframe thead th {\n",
       "        text-align: right;\n",
       "    }\n",
       "</style>\n",
       "<table border=\"1\" class=\"dataframe\">\n",
       "  <thead>\n",
       "    <tr style=\"text-align: right;\">\n",
       "      <th></th>\n",
       "      <th>rating</th>\n",
       "      <th>strategy_type</th>\n",
       "      <th>times_used</th>\n",
       "      <th>strategy_id</th>\n",
       "      <th>user_id</th>\n",
       "    </tr>\n",
       "  </thead>\n",
       "  <tbody>\n",
       "    <tr>\n",
       "      <th>0</th>\n",
       "      <td>784</td>\n",
       "      <td>King's Knight Opening</td>\n",
       "      <td>1</td>\n",
       "      <td>70</td>\n",
       "      <td>0</td>\n",
       "    </tr>\n",
       "    <tr>\n",
       "      <th>1</th>\n",
       "      <td>784</td>\n",
       "      <td>King's Pawn Game</td>\n",
       "      <td>1</td>\n",
       "      <td>72</td>\n",
       "      <td>0</td>\n",
       "    </tr>\n",
       "    <tr>\n",
       "      <th>2</th>\n",
       "      <td>788</td>\n",
       "      <td>Zukertort Opening</td>\n",
       "      <td>1</td>\n",
       "      <td>142</td>\n",
       "      <td>1</td>\n",
       "    </tr>\n",
       "    <tr>\n",
       "      <th>3</th>\n",
       "      <td>793</td>\n",
       "      <td>Queen's Pawn Game</td>\n",
       "      <td>1</td>\n",
       "      <td>109</td>\n",
       "      <td>4</td>\n",
       "    </tr>\n",
       "    <tr>\n",
       "      <th>4</th>\n",
       "      <td>795</td>\n",
       "      <td>French Defense</td>\n",
       "      <td>1</td>\n",
       "      <td>47</td>\n",
       "      <td>5</td>\n",
       "    </tr>\n",
       "  </tbody>\n",
       "</table>\n",
       "</div>"
      ],
      "text/plain": [
       "   rating          strategy_type  times_used  strategy_id  user_id\n",
       "0     784  King's Knight Opening           1           70        0\n",
       "1     784       King's Pawn Game           1           72        0\n",
       "2     788      Zukertort Opening           1          142        1\n",
       "3     793      Queen's Pawn Game           1          109        4\n",
       "4     795         French Defense           1           47        5"
      ]
     },
     "execution_count": 21,
     "metadata": {},
     "output_type": "execute_result"
    }
   ],
   "source": [
    "data['strategy_id'] = data['strategy_type'].astype('category').cat.codes\n",
    "data['user_id'] = data['rating'].astype(\"category\").cat.codes\n",
    "\n",
    "data.head() # Mengubah rating dan strategi menjadi id"
   ]
  },
  {
   "cell_type": "code",
   "execution_count": 31,
   "metadata": {},
   "outputs": [],
   "source": [
    "item_lookup = data[['strategy_id', 'strategy_type']].drop_duplicates() # Membuat tabel untuk mencocokkan id\n",
    "item_lookup['strategy_id'] = item_lookup.strategy_id.astype(str)\n",
    "\n",
    "item_user = sp.csr_matrix((data['times_used'].astype(float), (data['strategy_id'], data['user_id'])))\n",
    "user_item = sp.csr_matrix((data['times_used'].astype(float), (data['user_id'], data['strategy_id'])))"
   ]
  },
  {
   "cell_type": "code",
   "execution_count": 32,
   "metadata": {},
   "outputs": [
    {
     "name": "stderr",
     "output_type": "stream",
     "text": [
      "100%|████████████████████████████████████████████████████████████████████████████████| 50.0/50 [00:01<00:00, 27.17it/s]\n"
     ]
    }
   ],
   "source": [
    "model = AlternatingLeastSquares(factors=20, regularization = 0.1, iterations = 50)\n",
    "\n",
    "alpha = 15\n",
    "model.fit(item_user*alpha)\n",
    "\n",
    "user_vecs = model.user_factors\n",
    "item_vecs = model.item_factors"
   ]
  },
  {
   "cell_type": "code",
   "execution_count": 33,
   "metadata": {
    "scrolled": false
   },
   "outputs": [
    {
     "data": {
      "text/plain": [
       "array([ 0.40165505,  0.45117468, -0.2700052 ,  0.04725379, -0.32960328,\n",
       "        0.63816404,  0.36971936,  0.14817141, -0.06274742,  0.42832845,\n",
       "        0.44046456, -0.5416433 ,  0.04696117,  0.26068863, -0.34001708,\n",
       "        0.3466685 ,  0.2575936 ,  0.1540806 ,  0.02451641, -0.24731524],\n",
       "      dtype=float32)"
      ]
     },
     "execution_count": 33,
     "metadata": {},
     "output_type": "execute_result"
    }
   ],
   "source": [
    "user_vecs[1621]"
   ]
  },
  {
   "cell_type": "code",
   "execution_count": 34,
   "metadata": {
    "scrolled": true
   },
   "outputs": [
    {
     "data": {
      "text/plain": [
       "array([-0.02904611,  0.09294707, -0.1462949 ,  0.20951964, -0.11141801,\n",
       "       -0.02307488,  0.10874715, -0.03413364,  0.216075  , -0.16774951,\n",
       "       -0.32904673,  0.00092444,  0.1291828 , -0.02307776, -0.00309197,\n",
       "       -0.27574953,  0.06113844, -0.04921557,  0.21291499,  0.06072351],\n",
       "      dtype=float32)"
      ]
     },
     "execution_count": 34,
     "metadata": {},
     "output_type": "execute_result"
    }
   ],
   "source": [
    "item_vecs[142]"
   ]
  },
  {
   "cell_type": "code",
   "execution_count": 35,
   "metadata": {
    "scrolled": true
   },
   "outputs": [
    {
     "name": "stdout",
     "output_type": "stream",
     "text": [
      "King's Knight Opening\n",
      "Four Knights Game\n",
      "Indian Game\n",
      "Doery Defense\n",
      "Guatemala Defense\n",
      "Barnes Defense\n",
      "Irish Gambit\n",
      "Sodium Attack\n",
      "Alekhine Defense\n",
      "Center Game\n"
     ]
    }
   ],
   "source": [
    "item_id = 70 # King's Knight Opening\n",
    "n_similar = 10\n",
    "\n",
    "# Use implicit to get similar items.\n",
    "similar = model.similar_items(item_id, n_similar)\n",
    "\n",
    "# Print the names of our most similar artists\n",
    "for item in similar:\n",
    "    idx, score = item\n",
    "    print (data.strategy_type.loc[data.strategy_id == idx].iloc[0])"
   ]
  },
  {
   "cell_type": "code",
   "execution_count": 36,
   "metadata": {},
   "outputs": [
    {
     "name": "stdout",
     "output_type": "stream",
     "text": [
      "               Strategy     score\n",
      "0     Four Knights Game  0.904709\n",
      "1      Sicilian Defense  0.573528\n",
      "2        French Defense  0.564570\n",
      "3     Queen's Pawn Game  0.563432\n",
      "4  Scandinavian Defense  0.540449\n",
      "5             Ruy Lopez  0.532902\n",
      "6          Italian Game  0.524002\n",
      "7      Philidor Defense  0.516388\n",
      "8       English Opening  0.510184\n",
      "9     Caro-Kann Defense  0.477343\n"
     ]
    }
   ],
   "source": [
    "user_id = 0 # Rating 784\n",
    "\n",
    "recommended = model.recommend(user_id, user_item)\n",
    "\n",
    "strategies = []\n",
    "scores = []\n",
    "\n",
    "# Get strategy names from ids\n",
    "for item in recommended:\n",
    "    idx, score = item\n",
    "    strategies.append(data.strategy_type.loc[data.strategy_id == idx].iloc[0])\n",
    "    scores.append(score)\n",
    "\n",
    "# Create a dataframe of strategies and scores\n",
    "recommendations = pd.DataFrame({'Strategy': strategies, 'score': scores})\n",
    "\n",
    "print (recommendations)"
   ]
  },
  {
   "cell_type": "code",
   "execution_count": 37,
   "metadata": {
    "scrolled": false
   },
   "outputs": [
    {
     "data": {
      "text/html": [
       "<div>\n",
       "<style scoped>\n",
       "    .dataframe tbody tr th:only-of-type {\n",
       "        vertical-align: middle;\n",
       "    }\n",
       "\n",
       "    .dataframe tbody tr th {\n",
       "        vertical-align: top;\n",
       "    }\n",
       "\n",
       "    .dataframe thead th {\n",
       "        text-align: right;\n",
       "    }\n",
       "</style>\n",
       "<table border=\"1\" class=\"dataframe\">\n",
       "  <thead>\n",
       "    <tr style=\"text-align: right;\">\n",
       "      <th></th>\n",
       "      <th>Strategy</th>\n",
       "      <th>score</th>\n",
       "    </tr>\n",
       "  </thead>\n",
       "  <tbody>\n",
       "    <tr>\n",
       "      <th>784</th>\n",
       "      <td>Four Knights Game</td>\n",
       "      <td>0.904709</td>\n",
       "    </tr>\n",
       "    <tr>\n",
       "      <th>788</th>\n",
       "      <td>Nimzowitsch Defense</td>\n",
       "      <td>0.842777</td>\n",
       "    </tr>\n",
       "    <tr>\n",
       "      <th>793</th>\n",
       "      <td>French Defense</td>\n",
       "      <td>0.617986</td>\n",
       "    </tr>\n",
       "    <tr>\n",
       "      <th>795</th>\n",
       "      <td>Russian Game</td>\n",
       "      <td>0.480628</td>\n",
       "    </tr>\n",
       "    <tr>\n",
       "      <th>798</th>\n",
       "      <td>Sicilian Defense</td>\n",
       "      <td>0.645327</td>\n",
       "    </tr>\n",
       "  </tbody>\n",
       "</table>\n",
       "</div>"
      ],
      "text/plain": [
       "                Strategy     score\n",
       "784    Four Knights Game  0.904709\n",
       "788  Nimzowitsch Defense  0.842777\n",
       "793       French Defense  0.617986\n",
       "795         Russian Game  0.480628\n",
       "798     Sicilian Defense  0.645327"
      ]
     },
     "execution_count": 37,
     "metadata": {},
     "output_type": "execute_result"
    }
   ],
   "source": [
    "strategies = []\n",
    "scores = []\n",
    "\n",
    "for user_id in range(0, 1622):\n",
    "\n",
    "    recommended = model.recommend(user_id, user_item, 1)\n",
    "\n",
    "    # Get strategy names from ids\n",
    "    for item in recommended:\n",
    "        idx, score = item\n",
    "        strategies.append(data.strategy_type.loc[data.strategy_id == idx].iloc[0])\n",
    "        scores.append(score)\n",
    "\n",
    "# Create a dataframe of strategies and scores\n",
    "recommendations = pd.DataFrame({'Strategy': strategies, 'score': scores}, index=data['rating'].unique())\n",
    "\n",
    "recommendations.head()"
   ]
  },
  {
   "cell_type": "code",
   "execution_count": 38,
   "metadata": {},
   "outputs": [
    {
     "data": {
      "image/png": "[encoded data removed]",
      "text/plain": [
       "<Figure size 648x504 with 1 Axes>"
      ]
     },
     "metadata": {
      "needs_background": "light"
     },
     "output_type": "display_data"
    },
    {
     "data": {
      "text/plain": [
       "Sicilian Defense           203\n",
       "French Defense             149\n",
       "Queen's Pawn Game           99\n",
       "Queen's Gambit Declined     45\n",
       "Four Knights Game           43\n",
       "Indian Game                 42\n",
       "Horwitz Defense             40\n",
       "Zukertort Opening           40\n",
       "Pirc Defense                39\n",
       "Scandinavian Defense        38\n",
       "Name: Strategy, dtype: int64"
      ]
     },
     "execution_count": 38,
     "metadata": {},
     "output_type": "execute_result"
    }
   ],
   "source": [
    "recommendations['Strategy'].value_counts().head(10).iloc[0:].plot.bar(figsize=(9, 7), fontsize=12)\n",
    "plt.ylabel('Number of Recommended Ratings', fontsize=14)\n",
    "plt.title('Top 10 Most Recommended Openings (ALS)', fontsize=18)\n",
    "plt.show()\n",
    "recommendations['Strategy'].value_counts().head(10)"
   ]
  },
  {
   "cell_type": "code",
   "execution_count": null,
   "metadata": {},
   "outputs": [],
   "source": []
  }
 ],
 "metadata": {
  "kernelspec": {
   "display_name": "Python 3",
   "language": "python",
   "name": "python3"
  },
  "language_info": {
   "codemirror_mode": {
    "name": "ipython",
    "version": 3
   },
   "file_extension": ".py",
   "mimetype": "text/x-python",
   "name": "python",
   "nbconvert_exporter": "python",
   "pygments_lexer": "ipython3",
   "version": "3.7.3"
  }
 },
 "nbformat": 4,
 "nbformat_minor": 2
}
